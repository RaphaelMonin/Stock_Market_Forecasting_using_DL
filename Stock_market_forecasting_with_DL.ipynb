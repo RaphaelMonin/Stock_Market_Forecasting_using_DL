{
 "cells": [
  {
   "cell_type": "markdown",
   "metadata": {},
   "source": [
    "# Set Up\n",
    "### Install and import the stock market API Yahoo Finance"
   ]
  },
  {
   "cell_type": "code",
   "execution_count": null,
   "metadata": {},
   "outputs": [],
   "source": [
    "%pip install yfinance\n",
    "import yfinance as yf"
   ]
  },
  {
   "cell_type": "markdown",
   "metadata": {},
   "source": [
    "### Import some librairies"
   ]
  },
  {
   "cell_type": "code",
   "execution_count": 4,
   "metadata": {},
   "outputs": [],
   "source": [
    "import matplotlib.pyplot as plt\n",
    "import tensorflow as tf\n",
    "import math\n",
    "import numpy as np\n",
    "from sklearn.preprocessing import MinMaxScaler"
   ]
  },
  {
   "cell_type": "markdown",
   "metadata": {},
   "source": [
    "# Get data\n",
    "### Get EURUSD history"
   ]
  },
  {
   "cell_type": "code",
   "execution_count": 5,
   "metadata": {},
   "outputs": [
    {
     "data": {
      "text/html": [
       "<div>\n",
       "<style scoped>\n",
       "    .dataframe tbody tr th:only-of-type {\n",
       "        vertical-align: middle;\n",
       "    }\n",
       "\n",
       "    .dataframe tbody tr th {\n",
       "        vertical-align: top;\n",
       "    }\n",
       "\n",
       "    .dataframe thead th {\n",
       "        text-align: right;\n",
       "    }\n",
       "</style>\n",
       "<table border=\"1\" class=\"dataframe\">\n",
       "  <thead>\n",
       "    <tr style=\"text-align: right;\">\n",
       "      <th></th>\n",
       "      <th>Open</th>\n",
       "      <th>High</th>\n",
       "      <th>Low</th>\n",
       "      <th>Close</th>\n",
       "      <th>Volume</th>\n",
       "      <th>Dividends</th>\n",
       "      <th>Stock Splits</th>\n",
       "    </tr>\n",
       "    <tr>\n",
       "      <th>Date</th>\n",
       "      <th></th>\n",
       "      <th></th>\n",
       "      <th></th>\n",
       "      <th></th>\n",
       "      <th></th>\n",
       "      <th></th>\n",
       "      <th></th>\n",
       "    </tr>\n",
       "  </thead>\n",
       "  <tbody>\n",
       "    <tr>\n",
       "      <th>2009-12-31</th>\n",
       "      <td>1.4342</td>\n",
       "      <td>1.4439</td>\n",
       "      <td>1.4310</td>\n",
       "      <td>1.4327</td>\n",
       "      <td>0</td>\n",
       "      <td>0</td>\n",
       "      <td>0</td>\n",
       "    </tr>\n",
       "    <tr>\n",
       "      <th>2010-01-01</th>\n",
       "      <td>1.4327</td>\n",
       "      <td>1.4402</td>\n",
       "      <td>1.4327</td>\n",
       "      <td>1.4390</td>\n",
       "      <td>0</td>\n",
       "      <td>0</td>\n",
       "      <td>0</td>\n",
       "    </tr>\n",
       "    <tr>\n",
       "      <th>2010-01-04</th>\n",
       "      <td>1.4310</td>\n",
       "      <td>1.4452</td>\n",
       "      <td>1.4262</td>\n",
       "      <td>1.4424</td>\n",
       "      <td>0</td>\n",
       "      <td>0</td>\n",
       "      <td>0</td>\n",
       "    </tr>\n",
       "    <tr>\n",
       "      <th>2010-01-05</th>\n",
       "      <td>1.4427</td>\n",
       "      <td>1.4483</td>\n",
       "      <td>1.4352</td>\n",
       "      <td>1.4366</td>\n",
       "      <td>0</td>\n",
       "      <td>0</td>\n",
       "      <td>0</td>\n",
       "    </tr>\n",
       "    <tr>\n",
       "      <th>2010-01-06</th>\n",
       "      <td>1.4366</td>\n",
       "      <td>1.4435</td>\n",
       "      <td>1.4291</td>\n",
       "      <td>1.4404</td>\n",
       "      <td>0</td>\n",
       "      <td>0</td>\n",
       "      <td>0</td>\n",
       "    </tr>\n",
       "    <tr>\n",
       "      <th>...</th>\n",
       "      <td>...</td>\n",
       "      <td>...</td>\n",
       "      <td>...</td>\n",
       "      <td>...</td>\n",
       "      <td>...</td>\n",
       "      <td>...</td>\n",
       "      <td>...</td>\n",
       "    </tr>\n",
       "    <tr>\n",
       "      <th>2019-12-25</th>\n",
       "      <td>1.1091</td>\n",
       "      <td>1.1109</td>\n",
       "      <td>1.1078</td>\n",
       "      <td>1.1090</td>\n",
       "      <td>0</td>\n",
       "      <td>0</td>\n",
       "      <td>0</td>\n",
       "    </tr>\n",
       "    <tr>\n",
       "      <th>2019-12-26</th>\n",
       "      <td>1.1095</td>\n",
       "      <td>1.1105</td>\n",
       "      <td>1.1083</td>\n",
       "      <td>1.1095</td>\n",
       "      <td>0</td>\n",
       "      <td>0</td>\n",
       "      <td>0</td>\n",
       "    </tr>\n",
       "    <tr>\n",
       "      <th>2019-12-27</th>\n",
       "      <td>1.1101</td>\n",
       "      <td>1.1181</td>\n",
       "      <td>1.1100</td>\n",
       "      <td>1.1101</td>\n",
       "      <td>0</td>\n",
       "      <td>0</td>\n",
       "      <td>0</td>\n",
       "    </tr>\n",
       "    <tr>\n",
       "      <th>2019-12-30</th>\n",
       "      <td>1.1182</td>\n",
       "      <td>1.1221</td>\n",
       "      <td>1.1182</td>\n",
       "      <td>1.1182</td>\n",
       "      <td>0</td>\n",
       "      <td>0</td>\n",
       "      <td>0</td>\n",
       "    </tr>\n",
       "    <tr>\n",
       "      <th>2019-12-31</th>\n",
       "      <td>1.1204</td>\n",
       "      <td>1.1241</td>\n",
       "      <td>1.1201</td>\n",
       "      <td>1.1202</td>\n",
       "      <td>0</td>\n",
       "      <td>0</td>\n",
       "      <td>0</td>\n",
       "    </tr>\n",
       "  </tbody>\n",
       "</table>\n",
       "<p>2604 rows × 7 columns</p>\n",
       "</div>"
      ],
      "text/plain": [
       "              Open    High     Low   Close  Volume  Dividends  Stock Splits\n",
       "Date                                                                       \n",
       "2009-12-31  1.4342  1.4439  1.4310  1.4327       0          0             0\n",
       "2010-01-01  1.4327  1.4402  1.4327  1.4390       0          0             0\n",
       "2010-01-04  1.4310  1.4452  1.4262  1.4424       0          0             0\n",
       "2010-01-05  1.4427  1.4483  1.4352  1.4366       0          0             0\n",
       "2010-01-06  1.4366  1.4435  1.4291  1.4404       0          0             0\n",
       "...            ...     ...     ...     ...     ...        ...           ...\n",
       "2019-12-25  1.1091  1.1109  1.1078  1.1090       0          0             0\n",
       "2019-12-26  1.1095  1.1105  1.1083  1.1095       0          0             0\n",
       "2019-12-27  1.1101  1.1181  1.1100  1.1101       0          0             0\n",
       "2019-12-30  1.1182  1.1221  1.1182  1.1182       0          0             0\n",
       "2019-12-31  1.1204  1.1241  1.1201  1.1202       0          0             0\n",
       "\n",
       "[2604 rows x 7 columns]"
      ]
     },
     "execution_count": 5,
     "metadata": {},
     "output_type": "execute_result"
    }
   ],
   "source": [
    "eurusd = yf.Ticker('EURUSD=X')\n",
    "df = eurusd.history(period='1d', start='2010-1-1', end='2020-1-1')\n",
    "df"
   ]
  },
  {
   "cell_type": "markdown",
   "metadata": {},
   "source": [
    "### Plot EURUSD closing price history"
   ]
  },
  {
   "cell_type": "code",
   "execution_count": 7,
   "metadata": {
    "scrolled": true
   },
   "outputs": [
    {
     "data": {
      "text/plain": [
       "Text(0, 0.5, 'Closing price USD')"
      ]
     },
     "execution_count": 7,
     "metadata": {},
     "output_type": "execute_result"
    },
    {
     "data": {
      "image/png": "[encoded data removed]",
      "text/plain": [
       "<Figure size 576x288 with 1 Axes>"
      ]
     },
     "metadata": {
      "needs_background": "light"
     },
     "output_type": "display_data"
    }
   ],
   "source": [
    "plt.figure(figsize=(8,4))\n",
    "plt.title('Closing price history', fontsize=20)\n",
    "plt.plot(df['Close'])\n",
    "plt.xlabel('Date', fontsize=15)\n",
    "plt.ylabel('Closing price USD', fontsize=15)"
   ]
  },
  {
   "cell_type": "markdown",
   "metadata": {},
   "source": [
    "# Preprocess the data\n",
    "### Get our time series"
   ]
  },
  {
   "cell_type": "code",
   "execution_count": 8,
   "metadata": {},
   "outputs": [
    {
     "data": {
      "text/plain": [
       "((2604,), (2603,))"
      ]
     },
     "execution_count": 8,
     "metadata": {},
     "output_type": "execute_result"
    }
   ],
   "source": [
    "series_v = df['Close'].values\n",
    "series = series_v[1:]-series_v[:-1]\n",
    "series_v.shape, series.shape"
   ]
  },
  {
   "cell_type": "markdown",
   "metadata": {},
   "source": [
    "### Split the data to create train and test datasets"
   ]
  },
  {
   "cell_type": "code",
   "execution_count": 9,
   "metadata": {},
   "outputs": [
    {
     "data": {
      "text/plain": [
       "((2083,), (521,))"
      ]
     },
     "execution_count": 9,
     "metadata": {},
     "output_type": "execute_result"
    }
   ],
   "source": [
    "split_time = math.ceil(series.shape[0]*0.8)\n",
    "train_series = series[:split_time]\n",
    "test_series = series_v[split_time:]\n",
    "train_series.shape, test_series.shape"
   ]
  },
  {
   "cell_type": "markdown",
   "metadata": {},
   "source": [
    "### Normalize data"
   ]
  },
  {
   "cell_type": "code",
   "execution_count": 10,
   "metadata": {},
   "outputs": [
    {
     "data": {
      "text/plain": [
       "((2083, 1), (521,), (2603, 1))"
      ]
     },
     "execution_count": 10,
     "metadata": {},
     "output_type": "execute_result"
    }
   ],
   "source": [
    "scaler = MinMaxScaler()\n",
    "train_series = train_series.reshape((train_series.shape[0], 1))\n",
    "train_series = scaler.fit_transform(train_series)\n",
    "series = series.reshape((series.shape[0], 1))\n",
    "series = scaler.transform(series)\n",
    "train_series.shape, test_series.shape, series.shape"
   ]
  },
  {
   "cell_type": "code",
   "execution_count": 11,
   "metadata": {},
   "outputs": [],
   "source": [
    "def create_dataset(series, window_size=10, batch_size=32):\n",
    "  ds = tf.data.Dataset.from_tensor_slices(series)\n",
    "  ds = ds.window(window_size+1, shift=1, drop_remainder=True)\n",
    "  ds = ds.flat_map(lambda w: w.batch(window_size+1))\n",
    "  ds = ds.shuffle(series.shape[0])\n",
    "  ds = ds.map(lambda w: (w[:-1], w[-1]))\n",
    "  return ds.batch(batch_size).prefetch(1)"
   ]
  },
  {
   "cell_type": "markdown",
   "metadata": {},
   "source": [
    "# Build the model\n",
    "### Build the model and find out the best learning rate"
   ]
  },
  {
   "cell_type": "code",
   "execution_count": 12,
   "metadata": {},
   "outputs": [],
   "source": [
    "train_ds = create_dataset(train_series, window_size=32, batch_size=128)\n",
    "\n",
    "model = tf.keras.models.Sequential()\n",
    "model.add(tf.keras.layers.InputLayer(input_shape=[None, 1]))\n",
    "for dilation_rate in [1, 2, 4, 8, 16]:\n",
    "  model.add(tf.keras.layers.Conv1D(filters=64, kernel_size=2, strides=1, padding='causal', dilation_rate=dilation_rate, activation='relu'))\n",
    "model.add(tf.keras.layers.Conv1D(1, kernel_size=1))\n",
    "\n",
    "model.compile(loss=tf.keras.losses.Huber(), optimizer=tf.keras.optimizers.Adam(learning_rate=1e-4), metrics=['mae'])\n",
    "\n",
    "lr_scheduler = tf.keras.callbacks.LearningRateScheduler(lambda epoch: 1e-4*10**(epoch/30))\n",
    "history = model.fit(train_ds, epochs=100, callbacks=lr_scheduler, verbose=0)"
   ]
  },
  {
   "cell_type": "code",
   "execution_count": 13,
   "metadata": {},
   "outputs": [
    {
     "data": {
      "text/plain": [
       "[<matplotlib.lines.Line2D at 0x14471ccd0>]"
      ]
     },
     "execution_count": 13,
     "metadata": {},
     "output_type": "execute_result"
    },
    {
     "data": {
      "image/png": "[encoded data removed]",
      "text/plain": [
       "<Figure size 432x288 with 1 Axes>"
      ]
     },
     "metadata": {
      "needs_background": "light"
     },
     "output_type": "display_data"
    }
   ],
   "source": [
    "plt.semilogx(history.history['lr'], history.history['loss'])"
   ]
  },
  {
   "cell_type": "markdown",
   "metadata": {},
   "source": [
    "### Build and train the model"
   ]
  },
  {
   "cell_type": "code",
   "execution_count": 14,
   "metadata": {},
   "outputs": [],
   "source": [
    "train_ds = create_dataset(train_series, window_size=32, batch_size=128)\n",
    "\n",
    "model = tf.keras.models.Sequential()\n",
    "model.add(tf.keras.layers.InputLayer(input_shape=[None, 1]))\n",
    "for dilation_rate in [1, 2, 4, 8, 16]:\n",
    "  model.add(tf.keras.layers.Conv1D(filters=64, kernel_size=2, strides=1, padding='causal', dilation_rate=dilation_rate, activation='relu'))\n",
    "model.add(tf.keras.layers.Conv1D(1, kernel_size=1))\n",
    "\n",
    "model.compile(loss=tf.keras.losses.Huber(), optimizer=tf.keras.optimizers.Adam(learning_rate=1e-3), metrics=['mae'])\n",
    "\n",
    "save_checkpoint = tf.keras.callbacks.ModelCheckpoint('best_checkpoint.h5', monitor='loss', save_best_only=True)\n",
    "history = model.fit(train_ds, epochs=50, callbacks=[save_checkpoint], verbose=0)"
   ]
  },
  {
   "cell_type": "code",
   "execution_count": 15,
   "metadata": {},
   "outputs": [
    {
     "data": {
      "text/plain": [
       "[<matplotlib.lines.Line2D at 0x1451d8210>]"
      ]
     },
     "execution_count": 15,
     "metadata": {},
     "output_type": "execute_result"
    },
    {
     "data": {
      "image/png": "[encoded data removed]",
      "text/plain": [
       "<Figure size 432x288 with 1 Axes>"
      ]
     },
     "metadata": {
      "needs_background": "light"
     },
     "output_type": "display_data"
    }
   ],
   "source": [
    "plt.plot(history.history['loss'])"
   ]
  },
  {
   "cell_type": "markdown",
   "metadata": {},
   "source": [
    "# Use the model to forecast"
   ]
  },
  {
   "cell_type": "code",
   "execution_count": 19,
   "metadata": {},
   "outputs": [],
   "source": [
    "model = tf.keras.models.load_model('best_checkpoint.h5')\n",
    "def create_forecast_dataset(series, window_size=10, batch_size=32):\n",
    "  ds = tf.data.Dataset.from_tensor_slices(series)\n",
    "  ds = ds.window(window_size, shift=1, drop_remainder=True)\n",
    "  ds = ds.flat_map(lambda w: w.batch(window_size))\n",
    "  ds = ds.map(lambda w: (w[:-1], w[-1]))\n",
    "  return ds.batch(batch_size)\n",
    "\n",
    "window_size = 32\n",
    "forecast_ds = create_forecast_dataset(series, window_size=window_size, batch_size=128)\n",
    "forecast = model.predict(forecast_ds)\n",
    "forecast = forecast[split_time-window_size:, -1]"
   ]
  },
  {
   "cell_type": "code",
   "execution_count": 20,
   "metadata": {},
   "outputs": [
    {
     "data": {
      "text/plain": [
       "<matplotlib.legend.Legend at 0x1452bcd10>"
      ]
     },
     "execution_count": 20,
     "metadata": {},
     "output_type": "execute_result"
    },
    {
     "data": {
      "image/png": "[encoded data removed]",
      "text/plain": [
       "<Figure size 576x360 with 1 Axes>"
      ]
     },
     "metadata": {
      "needs_background": "light"
     },
     "output_type": "display_data"
    }
   ],
   "source": [
    "forecast = scaler.inverse_transform(forecast)\n",
    "forecast = forecast.reshape((forecast.shape[0]))\n",
    "forecast = forecast + series_v[split_time-1:-1]\n",
    "plt.figure(figsize=(8, 5))\n",
    "plt.plot(test_series, c='b', label='stock prices', linewidth=1.0)\n",
    "plt.plot(forecast, c='orange', label='predicted stock prices', linewidth=1.0)\n",
    "plt.legend()"
   ]
  },
  {
   "cell_type": "markdown",
   "metadata": {},
   "source": [
    "# Compute the error rate"
   ]
  },
  {
   "cell_type": "code",
   "execution_count": 21,
   "metadata": {},
   "outputs": [
    {
     "data": {
      "text/plain": [
       "0.3538213579999551"
      ]
     },
     "execution_count": 21,
     "metadata": {},
     "output_type": "execute_result"
    }
   ],
   "source": [
    "tf.keras.metrics.mean_absolute_percentage_error(forecast, test_series).numpy()"
   ]
  }
 ],
 "metadata": {
  "kernelspec": {
   "display_name": "Python 3",
   "language": "python",
   "name": "python3"
  },
  "language_info": {
   "codemirror_mode": {
    "name": "ipython",
    "version": 3
   },
   "file_extension": ".py",
   "mimetype": "text/x-python",
   "name": "python",
   "nbconvert_exporter": "python",
   "pygments_lexer": "ipython3",
   "version": "3.7.6"
  }
 },
 "nbformat": 4,
 "nbformat_minor": 4
}
